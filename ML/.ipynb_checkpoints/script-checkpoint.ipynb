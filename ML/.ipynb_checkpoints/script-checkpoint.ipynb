{
 "cells": [
  {
   "cell_type": "code",
   "execution_count": 2,
   "metadata": {},
   "outputs": [],
   "source": [
    "import pandas as pd\n",
    "import numpy as np \n",
    "import matplotlib.pyplot as plt\n",
    "from sklearn import model_selection\n",
    "from sklearn.tree import DecisionTreeClassifier\n",
    "from sklearn.tree import DecisionTreeRegressor\n",
    "from sklearn.model_selection import train_test_split # Import train_test_split function\n",
    "from sklearn import metrics\n",
    "from sklearn.model_selection import cross_val_score\n",
    "from sklearn.utils import shuffle\n",
    "from sklearn import metrics\n",
    "from sklearn.model_selection import KFold\n",
    "import random\n",
    "from sklearn.model_selection import cross_validate\n",
    "from sklearn.kernel_ridge import KernelRidge\n",
    "import numpy as np \n",
    "import matplotlib.pyplot as plt\n",
    "from sklearn import model_selection\n",
    "from sklearn.tree import DecisionTreeClassifier\n",
    "from sklearn.tree import DecisionTreeRegressor\n",
    "from sklearn.model_selection import train_test_split # Import train_test_split function\n",
    "from sklearn import metrics\n",
    "from sklearn.model_selection import cross_val_score\n",
    "from sklearn.utils import shuffle\n",
    "from sklearn import metrics\n",
    "from sklearn.model_selection import KFold\n",
    "import random\n",
    "from sklearn.model_selection import cross_validate\n",
    "from sklearn.kernel_ridge import KernelRidge\n",
    "import pickle\n",
    "from sklearn.metrics import precision_recall_fscore_support"
   ]
  },
  {
   "cell_type": "code",
   "execution_count": 200,
   "metadata": {},
   "outputs": [],
   "source": [
    "import pickle"
   ]
  },
  {
   "cell_type": "markdown",
   "metadata": {},
   "source": [
    "## Import Data"
   ]
  },
  {
   "cell_type": "code",
   "execution_count": 201,
   "metadata": {},
   "outputs": [],
   "source": [
    "data = pd.read_csv('TrainingDataRapp.csv')"
   ]
  },
  {
   "cell_type": "code",
   "execution_count": 202,
   "metadata": {},
   "outputs": [
    {
     "data": {
      "text/html": [
       "<div>\n",
       "<style scoped>\n",
       "    .dataframe tbody tr th:only-of-type {\n",
       "        vertical-align: middle;\n",
       "    }\n",
       "\n",
       "    .dataframe tbody tr th {\n",
       "        vertical-align: top;\n",
       "    }\n",
       "\n",
       "    .dataframe thead th {\n",
       "        text-align: right;\n",
       "    }\n",
       "</style>\n",
       "<table border=\"1\" class=\"dataframe\">\n",
       "  <thead>\n",
       "    <tr style=\"text-align: right;\">\n",
       "      <th></th>\n",
       "      <th>Time</th>\n",
       "      <th>S1</th>\n",
       "      <th>S2</th>\n",
       "      <th>Existing proportion</th>\n",
       "      <th>Predicted proportion</th>\n",
       "    </tr>\n",
       "  </thead>\n",
       "  <tbody>\n",
       "    <tr>\n",
       "      <th>0</th>\n",
       "      <td>0</td>\n",
       "      <td>900</td>\n",
       "      <td>0</td>\n",
       "      <td>0.26</td>\n",
       "      <td>0.90</td>\n",
       "    </tr>\n",
       "    <tr>\n",
       "      <th>1</th>\n",
       "      <td>20</td>\n",
       "      <td>900</td>\n",
       "      <td>1000</td>\n",
       "      <td>0.23</td>\n",
       "      <td>0.47</td>\n",
       "    </tr>\n",
       "    <tr>\n",
       "      <th>2</th>\n",
       "      <td>40</td>\n",
       "      <td>200</td>\n",
       "      <td>300</td>\n",
       "      <td>0.45</td>\n",
       "      <td>0.40</td>\n",
       "    </tr>\n",
       "    <tr>\n",
       "      <th>3</th>\n",
       "      <td>60</td>\n",
       "      <td>500</td>\n",
       "      <td>0</td>\n",
       "      <td>0.59</td>\n",
       "      <td>0.90</td>\n",
       "    </tr>\n",
       "    <tr>\n",
       "      <th>4</th>\n",
       "      <td>80</td>\n",
       "      <td>900</td>\n",
       "      <td>200</td>\n",
       "      <td>0.74</td>\n",
       "      <td>0.82</td>\n",
       "    </tr>\n",
       "  </tbody>\n",
       "</table>\n",
       "</div>"
      ],
      "text/plain": [
       "   Time   S1    S2  Existing proportion  Predicted proportion\n",
       "0     0  900     0                 0.26                  0.90\n",
       "1    20  900  1000                 0.23                  0.47\n",
       "2    40  200   300                 0.45                  0.40\n",
       "3    60  500     0                 0.59                  0.90\n",
       "4    80  900   200                 0.74                  0.82"
      ]
     },
     "execution_count": 202,
     "metadata": {},
     "output_type": "execute_result"
    }
   ],
   "source": [
    "data.head()"
   ]
  },
  {
   "cell_type": "markdown",
   "metadata": {},
   "source": [
    "## Split data into Test and Train"
   ]
  },
  {
   "cell_type": "code",
   "execution_count": 203,
   "metadata": {},
   "outputs": [],
   "source": [
    "# np.array(data.iloc[:,1:3])\n",
    "# np.array(data.iloc[:,-1])"
   ]
  },
  {
   "cell_type": "code",
   "execution_count": 204,
   "metadata": {},
   "outputs": [],
   "source": [
    "# x = np.array(data.iloc[:,1:3])\n",
    "# y = np.array(data.iloc[:,-1])\n",
    "x = data.iloc[:,1:3]\n",
    "y = data.iloc[:,-1]\n",
    "X_train, X_test, y_train, y_test = train_test_split(x, y, test_size=0.3, random_state=42)"
   ]
  },
  {
   "cell_type": "markdown",
   "metadata": {},
   "source": [
    "# CART - Classification and Regression Tree"
   ]
  },
  {
   "cell_type": "code",
   "execution_count": 205,
   "metadata": {},
   "outputs": [],
   "source": [
    "name=[]\n",
    "score =[]\n",
    "seed = 1\n",
    "scoring =['neg_mean_squared_error','neg_mean_absolute_error','r2']"
   ]
  },
  {
   "cell_type": "code",
   "execution_count": 206,
   "metadata": {},
   "outputs": [],
   "source": [
    "# create a regressor object\n",
    "regressor = DecisionTreeRegressor() \n",
    "# fit the regressor with X and Y data\n",
    "regressor.fit(X_train, y_train)\n",
    "y_pred1 = regressor.predict(X_test)\n",
    "cv = KFold(n_splits=10, random_state=1, shuffle=True)"
   ]
  },
  {
   "cell_type": "code",
   "execution_count": 207,
   "metadata": {},
   "outputs": [
    {
     "name": "stdout",
     "output_type": "stream",
     "text": [
      "{'fit_time': array([0.00187159, 0.00157142, 0.00133467, 0.00107145, 0.0008173 ,\n",
      "       0.00079489, 0.00074887, 0.00070238, 0.00071955, 0.00080585]), 'score_time': array([0.00166225, 0.00160098, 0.00124574, 0.00082874, 0.00082088,\n",
      "       0.00089169, 0.00073981, 0.00072908, 0.00080109, 0.00102139]), 'test_neg_mean_squared_error': array([-1.04555556e-02, -2.20000000e-03, -2.70000000e-03, -1.13333333e-03,\n",
      "       -1.68888889e-03, -1.53333333e-03, -1.53333333e-03, -1.86666667e-03,\n",
      "       -4.44444444e-05, -8.55555556e-04]), 'test_neg_mean_absolute_error': array([-0.04555556, -0.02666667, -0.02333333, -0.02222222, -0.02222222,\n",
      "       -0.02444444, -0.02444444, -0.03111111, -0.00222222, -0.02333333]), 'test_r2': array([0.82765568, 0.9440678 , 0.93684302, 0.98135359, 0.9805278 ,\n",
      "       0.96832118, 0.96771846, 0.97539543, 0.99922988, 0.96944444])}\n"
     ]
    }
   ],
   "source": [
    "score1 =cross_validate(regressor,X_test,y_test, cv=cv,scoring = scoring) #'explained_variance' ,scoring = scoring\n",
    "name.append('CART')\n",
    "score.append(score1)\n",
    "print((score1))"
   ]
  },
  {
   "cell_type": "code",
   "execution_count": 208,
   "metadata": {},
   "outputs": [
    {
     "data": {
      "image/png": "[encoded data removed]",
      "text/plain": [
       "<Figure size 1332x576 with 3 Axes>"
      ]
     },
     "metadata": {
      "needs_background": "light"
     },
     "output_type": "display_data"
    }
   ],
   "source": [
    "# Cross Validation\n",
    "fig,a = plt.subplots(1,3)\n",
    "fig.suptitle('Cross Validation for CART')\n",
    "fig.set_size_inches(18.5, 8)\n",
    "# fig.subplot(1,3)\n",
    "a[0].boxplot(score1['test_neg_mean_squared_error'])\n",
    "a[0].set_title('test_neg_mean_squared_error')\n",
    "a[1].boxplot(score1['test_neg_mean_absolute_error'])\n",
    "a[1].set_title('test_neg_mean_absolute_error')\n",
    "a[2].boxplot(score1['test_r2'])\n",
    "a[2].set_title('test_r2')\n",
    "plt.show()"
   ]
  },
  {
   "cell_type": "code",
   "execution_count": 209,
   "metadata": {},
   "outputs": [
    {
     "name": "stdout",
     "output_type": "stream",
     "text": [
      "[0.5]\n"
     ]
    },
    {
     "name": "stderr",
     "output_type": "stream",
     "text": [
      "/home/nextg3/.local/lib/python3.8/site-packages/sklearn/base.py:450: UserWarning: X does not have valid feature names, but DecisionTreeRegressor was fitted with feature names\n",
      "  warnings.warn(\n"
     ]
    }
   ],
   "source": [
    "# prediction\n",
    "p = regressor.predict([[2110,8000]])\n",
    "print(p)"
   ]
  },
  {
   "cell_type": "code",
   "execution_count": 4,
   "metadata": {},
   "outputs": [
    {
     "data": {
      "text/plain": [
       "0.00240111111504"
      ]
     },
     "execution_count": 4,
     "metadata": {},
     "output_type": "execute_result"
    }
   ],
   "source": [
    "# MSE\n",
    "-1*np.mean([-1.04555556e-02, -2.20000000e-03, -2.70000000e-03, -1.13333333e-03,\n",
    "       -1.68888889e-03, -1.53333333e-03, -1.53333333e-03, -1.86666667e-03,\n",
    "       -4.44444444e-05, -8.55555556e-04])"
   ]
  },
  {
   "cell_type": "markdown",
   "metadata": {},
   "source": [
    "# Kernel Ridge Regression"
   ]
  },
  {
   "cell_type": "code",
   "execution_count": 210,
   "metadata": {},
   "outputs": [
    {
     "name": "stdout",
     "output_type": "stream",
     "text": [
      "{'fit_time': array([0.0016284 , 0.00163484, 0.00162315, 0.00172281, 0.00174284,\n",
      "       0.00163007, 0.00169587, 0.00153661, 0.00171947, 0.00152516]), 'score_time': array([0.01149869, 0.00137043, 0.00129843, 0.00128818, 0.00127745,\n",
      "       0.01591349, 0.00133014, 0.00135922, 0.0013299 , 0.00644302]), 'test_neg_mean_squared_error': array([-0.06510195, -0.06278093, -0.02483716, -0.04065529, -0.07000291,\n",
      "       -0.02115793, -0.04348558, -0.04044445, -0.04276817, -0.03969431]), 'test_neg_mean_absolute_error': array([-0.17702447, -0.22832643, -0.13492904, -0.17824929, -0.20951159,\n",
      "       -0.13868091, -0.17975894, -0.13596199, -0.1615626 , -0.14776964]), 'test_r2': array([-0.07310901, -0.59612544,  0.41902209,  0.33111024,  0.19289502,\n",
      "        0.56287507,  0.08449022,  0.46690095,  0.25892655, -0.41765392])}\n"
     ]
    }
   ],
   "source": [
    "R = KernelRidge(alpha = 1.0)\n",
    "\n",
    "R.fit(X_train, y_train)\n",
    "\n",
    "# score2 = R.score(X_test,y_test)\n",
    "score2 =cross_validate(R,X_test,y_test, cv=cv,n_jobs=5,scoring = scoring)\n",
    "print(score2)\n",
    "name.append('KRR')\n",
    "score.append(score2)"
   ]
  },
  {
   "cell_type": "code",
   "execution_count": 211,
   "metadata": {},
   "outputs": [
    {
     "name": "stdout",
     "output_type": "stream",
     "text": [
      "{'fit_time': array([0.00181627, 0.00769782, 0.00152278, 0.00123978, 0.00836396,\n",
      "       0.00170159, 0.00135088, 0.00140643, 0.00142193, 0.00152183]), 'score_time': array([0.00102091, 0.00107479, 0.00100064, 0.00722075, 0.00193691,\n",
      "       0.00104666, 0.0009594 , 0.000947  , 0.0009439 , 0.00092244]), 'test_score': array([-0.07310901, -0.59612544,  0.41902209,  0.33111024,  0.19289502,\n",
      "        0.56287507,  0.08449022,  0.46690095,  0.25892655, -0.41765392])}\n"
     ]
    }
   ],
   "source": [
    "sc2 =cross_validate(R,X_test,y_test, cv=cv,n_jobs=5)\n",
    "print(sc2)"
   ]
  },
  {
   "cell_type": "code",
   "execution_count": 212,
   "metadata": {},
   "outputs": [
    {
     "data": {
      "image/png": "[encoded data removed]",
      "text/plain": [
       "<Figure size 1332x576 with 3 Axes>"
      ]
     },
     "metadata": {
      "needs_background": "light"
     },
     "output_type": "display_data"
    }
   ],
   "source": [
    "# Cross Validation\n",
    "fig,a = plt.subplots(1,3)\n",
    "fig.set_size_inches(18.5, 8)\n",
    "fig.suptitle('Cross Validation for Kernel Ridge Regression')\n",
    "# fig.subplot(1,3)\n",
    "a[0].boxplot(score2['test_neg_mean_squared_error'])\n",
    "a[0].set_title('test_neg_mean_squared_error')\n",
    "a[1].boxplot(score2['test_neg_mean_absolute_error'])\n",
    "a[1].set_title('test_neg_mean_absolute_error')\n",
    "a[2].boxplot(score2['test_r2'])\n",
    "a[2].set_title('test_r2')\n",
    "plt.show()"
   ]
  },
  {
   "cell_type": "code",
   "execution_count": null,
   "metadata": {},
   "outputs": [],
   "source": [
    "# MSE\n",
    "-1*np.me"
   ]
  },
  {
   "cell_type": "markdown",
   "metadata": {},
   "source": [
    "# Kernel Ridge Regression"
   ]
  },
  {
   "cell_type": "code",
   "execution_count": 213,
   "metadata": {},
   "outputs": [],
   "source": [
    "from sklearn.kernel_ridge import KernelRidge"
   ]
  },
  {
   "cell_type": "code",
   "execution_count": 214,
   "metadata": {},
   "outputs": [
    {
     "name": "stdout",
     "output_type": "stream",
     "text": [
      "{'fit_time': array([0.00182509, 0.00123715, 0.00194168, 0.00179458, 0.00167537,\n",
      "       0.00573969, 0.00186133, 0.0015502 , 0.00141072, 0.00171638]), 'score_time': array([0.00135517, 0.01375794, 0.00153041, 0.00135636, 0.0014267 ,\n",
      "       0.0013442 , 0.00138426, 0.00122881, 0.00129318, 0.00219512]), 'test_neg_mean_squared_error': array([-0.06510195, -0.06278093, -0.02483716, -0.04065529, -0.07000291,\n",
      "       -0.02115793, -0.04348558, -0.04044445, -0.04276817, -0.03969431]), 'test_neg_mean_absolute_error': array([-0.17702447, -0.22832643, -0.13492904, -0.17824929, -0.20951159,\n",
      "       -0.13868091, -0.17975894, -0.13596199, -0.1615626 , -0.14776964]), 'test_r2': array([-0.07310901, -0.59612544,  0.41902209,  0.33111024,  0.19289502,\n",
      "        0.56287507,  0.08449022,  0.46690095,  0.25892655, -0.41765392])}\n"
     ]
    }
   ],
   "source": [
    "R = KernelRidge(alpha = 1.0)\n",
    "\n",
    "R.fit(X_train, y_train)\n",
    "\n",
    "# score2 = R.score(X_test,y_test)\n",
    "score2 =cross_validate(R,X_test,y_test, cv=cv,n_jobs=5,scoring = scoring)\n",
    "print(score2)\n",
    "name.append('KRR')\n",
    "score.append(score2)\n",
    "# average.append(np.mean(score2))\n",
    "# maximum.append(max(score2))\n",
    "# minimum.append(min(score2))"
   ]
  },
  {
   "cell_type": "code",
   "execution_count": 215,
   "metadata": {},
   "outputs": [
    {
     "data": {
      "image/png": "[encoded data removed]",
      "text/plain": [
       "<Figure size 1332x576 with 3 Axes>"
      ]
     },
     "metadata": {
      "needs_background": "light"
     },
     "output_type": "display_data"
    }
   ],
   "source": [
    "# Cross Validation\n",
    "fig,a = plt.subplots(1,3)\n",
    "fig.set_size_inches(18.5, 8)\n",
    "fig.suptitle('Cross Validation for Kernel Ridge Regression')\n",
    "# fig.subplot(1,3)\n",
    "a[0].boxplot(score2['test_neg_mean_squared_error'])\n",
    "a[0].set_title('test_neg_mean_squared_error')\n",
    "a[1].boxplot(score2['test_neg_mean_absolute_error'])\n",
    "a[1].set_title('test_neg_mean_absolute_error')\n",
    "a[2].boxplot(score2['test_r2'])\n",
    "a[2].set_title('test_r2')\n",
    "plt.show()"
   ]
  },
  {
   "cell_type": "markdown",
   "metadata": {},
   "source": [
    "# K Nearest Neighbors"
   ]
  },
  {
   "cell_type": "code",
   "execution_count": 216,
   "metadata": {},
   "outputs": [],
   "source": [
    "from sklearn.neighbors import KNeighborsRegressor"
   ]
  },
  {
   "cell_type": "code",
   "execution_count": 217,
   "metadata": {},
   "outputs": [
    {
     "name": "stdout",
     "output_type": "stream",
     "text": [
      "{'fit_time': array([0.00146246, 0.0012989 , 0.00116467, 0.00160265, 0.0016036 ,\n",
      "       0.00093174, 0.00095057, 0.00143671, 0.00116515, 0.00136852]), 'score_time': array([0.00187993, 0.0012114 , 0.00115466, 0.00181961, 0.00132346,\n",
      "       0.00118661, 0.00111318, 0.0018127 , 0.00111198, 0.00144243]), 'test_neg_mean_squared_error': array([-0.00227422, -0.00259778, -0.00085867, -0.007852  , -0.00073111,\n",
      "       -0.00079022, -0.00119378, -0.00129644, -0.00071867, -0.00034   ]), 'test_neg_mean_absolute_error': array([-0.03888889, -0.04066667, -0.02133333, -0.04511111, -0.01844444,\n",
      "       -0.02      , -0.02888889, -0.02733333, -0.01844444, -0.01488889]), 'test_r2': array([0.96251282, 0.9339548 , 0.97991452, 0.87081329, 0.99157059,\n",
      "       0.98367393, 0.97486718, 0.98291154, 0.98754717, 0.98785714])}\n"
     ]
    }
   ],
   "source": [
    "neigh = KNeighborsRegressor(n_neighbors=5)\n",
    "neigh.fit(X_train, y_train)\n",
    "y_pred3 = neigh.predict(X_test)\n",
    "# score3 = neigh.score(X_test,y_test)\n",
    "score3 =cross_validate(neigh,X_test,y_test, cv=cv,n_jobs=5,scoring = scoring)\n",
    "print(score3)\n",
    "name.append('KNN')\n",
    "score.append(score3)\n",
    "# average.append(np.mean(score3))\n",
    "# maximum.append(max(score3))\n",
    "# minimum.append(min(score3))"
   ]
  },
  {
   "cell_type": "code",
   "execution_count": 218,
   "metadata": {},
   "outputs": [
    {
     "data": {
      "image/png": "[encoded data removed]",
      "text/plain": [
       "<Figure size 1332x576 with 3 Axes>"
      ]
     },
     "metadata": {
      "needs_background": "light"
     },
     "output_type": "display_data"
    }
   ],
   "source": [
    "# Cross Validation\n",
    "fig,a = plt.subplots(1,3)\n",
    "fig.set_size_inches(18.5, 8)\n",
    "fig.suptitle('Cross Validation for K Nearest Neighbours')\n",
    "# fig.subplot(1,3)\n",
    "a[0].boxplot(score3['test_neg_mean_squared_error'])\n",
    "a[0].set_title('test_neg_mean_squared_error')\n",
    "a[1].boxplot(score3['test_neg_mean_absolute_error'])\n",
    "a[1].set_title('test_neg_mean_absolute_error')\n",
    "a[2].boxplot(score3['test_r2'])\n",
    "a[2].set_title('test_r2')\n",
    "plt.show()"
   ]
  },
  {
   "cell_type": "code",
   "execution_count": 219,
   "metadata": {},
   "outputs": [],
   "source": [
    "# save the model to disk\n",
    "filename = 'finalized_model.sav'\n",
    "# pickle.dump(neigh, open(filename, 'wb'))"
   ]
  },
  {
   "cell_type": "code",
   "execution_count": 220,
   "metadata": {},
   "outputs": [],
   "source": [
    "# load the model from disk\n",
    "loaded_model = pickle.load(open(filename, 'rb'))"
   ]
  },
  {
   "cell_type": "code",
   "execution_count": 221,
   "metadata": {},
   "outputs": [
    {
     "data": {
      "text/plain": [
       "array([0.858])"
      ]
     },
     "execution_count": 221,
     "metadata": {},
     "output_type": "execute_result"
    }
   ],
   "source": [
    "loaded_model.predict([[100000,100]])"
   ]
  },
  {
   "cell_type": "code",
   "execution_count": 222,
   "metadata": {},
   "outputs": [
    {
     "data": {
      "text/plain": [
       "0.956022881"
      ]
     },
     "execution_count": 222,
     "metadata": {},
     "output_type": "execute_result"
    }
   ],
   "source": [
    "np.mean([0.82765568, 0.9440678 , 0.93684302, 0.99012837, 0.98142455,\n",
    "       0.96832118, 0.96771846, 0.97539543, 0.99922988, 0.96944444])"
   ]
  },
  {
   "cell_type": "code",
   "execution_count": 226,
   "metadata": {},
   "outputs": [
    {
     "data": {
      "text/plain": [
       "0.40568866000000003"
      ]
     },
     "execution_count": 226,
     "metadata": {},
     "output_type": "execute_result"
    },
    {
     "name": "stderr",
     "output_type": "stream",
     "text": [
      "/home/nextg3/.local/lib/python3.8/site-packages/sklearn/model_selection/_validation.py:770: UserWarning: Scoring failed. The score on this train-test partition for these parameters will be set to nan. Details: \n",
      "Traceback (most recent call last):\n",
      "  File \"/home/nextg3/.local/lib/python3.8/site-packages/sklearn/model_selection/_validation.py\", line 761, in _score\n",
      "    scores = scorer(estimator, X_test, y_test)\n",
      "  File \"/home/nextg3/.local/lib/python3.8/site-packages/sklearn/metrics/_scorer.py\", line 103, in __call__\n",
      "    score = scorer._score(cached_call, estimator, *args, **kwargs)\n",
      "  File \"/home/nextg3/.local/lib/python3.8/site-packages/sklearn/metrics/_scorer.py\", line 349, in _score\n",
      "    raise ValueError(\"{0} format is not supported\".format(y_type))\n",
      "ValueError: continuous format is not supported\n",
      "\n",
      "  warnings.warn(\n",
      "/home/nextg3/.local/lib/python3.8/site-packages/sklearn/model_selection/_validation.py:770: UserWarning: Scoring failed. The score on this train-test partition for these parameters will be set to nan. Details: \n",
      "Traceback (most recent call last):\n",
      "  File \"/home/nextg3/.local/lib/python3.8/site-packages/sklearn/model_selection/_validation.py\", line 761, in _score\n",
      "    scores = scorer(estimator, X_test, y_test)\n",
      "  File \"/home/nextg3/.local/lib/python3.8/site-packages/sklearn/metrics/_scorer.py\", line 103, in __call__\n",
      "    score = scorer._score(cached_call, estimator, *args, **kwargs)\n",
      "  File \"/home/nextg3/.local/lib/python3.8/site-packages/sklearn/metrics/_scorer.py\", line 349, in _score\n",
      "    raise ValueError(\"{0} format is not supported\".format(y_type))\n",
      "ValueError: continuous format is not supported\n",
      "\n",
      "  warnings.warn(\n",
      "/home/nextg3/.local/lib/python3.8/site-packages/sklearn/model_selection/_validation.py:770: UserWarning: Scoring failed. The score on this train-test partition for these parameters will be set to nan. Details: \n",
      "Traceback (most recent call last):\n",
      "  File \"/home/nextg3/.local/lib/python3.8/site-packages/sklearn/model_selection/_validation.py\", line 761, in _score\n",
      "    scores = scorer(estimator, X_test, y_test)\n",
      "  File \"/home/nextg3/.local/lib/python3.8/site-packages/sklearn/metrics/_scorer.py\", line 103, in __call__\n",
      "    score = scorer._score(cached_call, estimator, *args, **kwargs)\n",
      "  File \"/home/nextg3/.local/lib/python3.8/site-packages/sklearn/metrics/_scorer.py\", line 349, in _score\n",
      "    raise ValueError(\"{0} format is not supported\".format(y_type))\n",
      "ValueError: continuous format is not supported\n",
      "\n",
      "  warnings.warn(\n",
      "/home/nextg3/.local/lib/python3.8/site-packages/sklearn/model_selection/_validation.py:770: UserWarning: Scoring failed. The score on this train-test partition for these parameters will be set to nan. Details: \n",
      "Traceback (most recent call last):\n",
      "  File \"/home/nextg3/.local/lib/python3.8/site-packages/sklearn/model_selection/_validation.py\", line 761, in _score\n",
      "    scores = scorer(estimator, X_test, y_test)\n",
      "  File \"/home/nextg3/.local/lib/python3.8/site-packages/sklearn/metrics/_scorer.py\", line 103, in __call__\n",
      "    score = scorer._score(cached_call, estimator, *args, **kwargs)\n",
      "  File \"/home/nextg3/.local/lib/python3.8/site-packages/sklearn/metrics/_scorer.py\", line 349, in _score\n",
      "    raise ValueError(\"{0} format is not supported\".format(y_type))\n",
      "ValueError: continuous format is not supported\n",
      "\n",
      "  warnings.warn(\n",
      "/home/nextg3/.local/lib/python3.8/site-packages/sklearn/model_selection/_validation.py:770: UserWarning: Scoring failed. The score on this train-test partition for these parameters will be set to nan. Details: \n",
      "Traceback (most recent call last):\n",
      "  File \"/home/nextg3/.local/lib/python3.8/site-packages/sklearn/model_selection/_validation.py\", line 761, in _score\n",
      "    scores = scorer(estimator, X_test, y_test)\n",
      "  File \"/home/nextg3/.local/lib/python3.8/site-packages/sklearn/metrics/_scorer.py\", line 103, in __call__\n",
      "    score = scorer._score(cached_call, estimator, *args, **kwargs)\n",
      "  File \"/home/nextg3/.local/lib/python3.8/site-packages/sklearn/metrics/_scorer.py\", line 349, in _score\n",
      "    raise ValueError(\"{0} format is not supported\".format(y_type))\n",
      "ValueError: continuous format is not supported\n",
      "\n",
      "  warnings.warn(\n",
      "/home/nextg3/.local/lib/python3.8/site-packages/sklearn/model_selection/_validation.py:770: UserWarning: Scoring failed. The score on this train-test partition for these parameters will be set to nan. Details: \n",
      "Traceback (most recent call last):\n",
      "  File \"/home/nextg3/.local/lib/python3.8/site-packages/sklearn/model_selection/_validation.py\", line 761, in _score\n",
      "    scores = scorer(estimator, X_test, y_test)\n",
      "  File \"/home/nextg3/.local/lib/python3.8/site-packages/sklearn/metrics/_scorer.py\", line 103, in __call__\n",
      "    score = scorer._score(cached_call, estimator, *args, **kwargs)\n",
      "  File \"/home/nextg3/.local/lib/python3.8/site-packages/sklearn/metrics/_scorer.py\", line 349, in _score\n",
      "    raise ValueError(\"{0} format is not supported\".format(y_type))\n",
      "ValueError: continuous format is not supported\n",
      "\n",
      "  warnings.warn(\n",
      "/home/nextg3/.local/lib/python3.8/site-packages/sklearn/model_selection/_validation.py:770: UserWarning: Scoring failed. The score on this train-test partition for these parameters will be set to nan. Details: \n",
      "Traceback (most recent call last):\n",
      "  File \"/home/nextg3/.local/lib/python3.8/site-packages/sklearn/model_selection/_validation.py\", line 761, in _score\n",
      "    scores = scorer(estimator, X_test, y_test)\n",
      "  File \"/home/nextg3/.local/lib/python3.8/site-packages/sklearn/metrics/_scorer.py\", line 103, in __call__\n",
      "    score = scorer._score(cached_call, estimator, *args, **kwargs)\n",
      "  File \"/home/nextg3/.local/lib/python3.8/site-packages/sklearn/metrics/_scorer.py\", line 349, in _score\n",
      "    raise ValueError(\"{0} format is not supported\".format(y_type))\n",
      "ValueError: continuous format is not supported\n",
      "\n",
      "  warnings.warn(\n",
      "/home/nextg3/.local/lib/python3.8/site-packages/sklearn/model_selection/_validation.py:770: UserWarning: Scoring failed. The score on this train-test partition for these parameters will be set to nan. Details: \n",
      "Traceback (most recent call last):\n",
      "  File \"/home/nextg3/.local/lib/python3.8/site-packages/sklearn/model_selection/_validation.py\", line 761, in _score\n",
      "    scores = scorer(estimator, X_test, y_test)\n",
      "  File \"/home/nextg3/.local/lib/python3.8/site-packages/sklearn/metrics/_scorer.py\", line 103, in __call__\n",
      "    score = scorer._score(cached_call, estimator, *args, **kwargs)\n",
      "  File \"/home/nextg3/.local/lib/python3.8/site-packages/sklearn/metrics/_scorer.py\", line 349, in _score\n",
      "    raise ValueError(\"{0} format is not supported\".format(y_type))\n",
      "ValueError: continuous format is not supported\n",
      "\n",
      "  warnings.warn(\n",
      "/home/nextg3/.local/lib/python3.8/site-packages/sklearn/model_selection/_validation.py:770: UserWarning: Scoring failed. The score on this train-test partition for these parameters will be set to nan. Details: \n",
      "Traceback (most recent call last):\n",
      "  File \"/home/nextg3/.local/lib/python3.8/site-packages/sklearn/model_selection/_validation.py\", line 761, in _score\n",
      "    scores = scorer(estimator, X_test, y_test)\n",
      "  File \"/home/nextg3/.local/lib/python3.8/site-packages/sklearn/metrics/_scorer.py\", line 103, in __call__\n",
      "    score = scorer._score(cached_call, estimator, *args, **kwargs)\n",
      "  File \"/home/nextg3/.local/lib/python3.8/site-packages/sklearn/metrics/_scorer.py\", line 349, in _score\n",
      "    raise ValueError(\"{0} format is not supported\".format(y_type))\n",
      "ValueError: continuous format is not supported\n",
      "\n",
      "  warnings.warn(\n",
      "/home/nextg3/.local/lib/python3.8/site-packages/sklearn/model_selection/_validation.py:770: UserWarning: Scoring failed. The score on this train-test partition for these parameters will be set to nan. Details: \n",
      "Traceback (most recent call last):\n",
      "  File \"/home/nextg3/.local/lib/python3.8/site-packages/sklearn/model_selection/_validation.py\", line 761, in _score\n",
      "    scores = scorer(estimator, X_test, y_test)\n",
      "  File \"/home/nextg3/.local/lib/python3.8/site-packages/sklearn/metrics/_scorer.py\", line 103, in __call__\n",
      "    score = scorer._score(cached_call, estimator, *args, **kwargs)\n",
      "  File \"/home/nextg3/.local/lib/python3.8/site-packages/sklearn/metrics/_scorer.py\", line 349, in _score\n",
      "    raise ValueError(\"{0} format is not supported\".format(y_type))\n",
      "ValueError: continuous format is not supported\n",
      "\n",
      "  warnings.warn(\n",
      "/home/nextg3/.local/lib/python3.8/site-packages/sklearn/model_selection/_validation.py:770: UserWarning: Scoring failed. The score on this train-test partition for these parameters will be set to nan. Details: \n",
      "Traceback (most recent call last):\n",
      "  File \"/home/nextg3/.local/lib/python3.8/site-packages/sklearn/model_selection/_validation.py\", line 761, in _score\n",
      "    scores = scorer(estimator, X_test, y_test)\n",
      "  File \"/home/nextg3/.local/lib/python3.8/site-packages/sklearn/metrics/_scorer.py\", line 103, in __call__\n",
      "    score = scorer._score(cached_call, estimator, *args, **kwargs)\n",
      "  File \"/home/nextg3/.local/lib/python3.8/site-packages/sklearn/metrics/_scorer.py\", line 349, in _score\n",
      "    raise ValueError(\"{0} format is not supported\".format(y_type))\n",
      "ValueError: continuous format is not supported\n",
      "\n",
      "  warnings.warn(\n",
      "/home/nextg3/.local/lib/python3.8/site-packages/sklearn/model_selection/_validation.py:770: UserWarning: Scoring failed. The score on this train-test partition for these parameters will be set to nan. Details: \n",
      "Traceback (most recent call last):\n",
      "  File \"/home/nextg3/.local/lib/python3.8/site-packages/sklearn/model_selection/_validation.py\", line 761, in _score\n",
      "    scores = scorer(estimator, X_test, y_test)\n",
      "  File \"/home/nextg3/.local/lib/python3.8/site-packages/sklearn/metrics/_scorer.py\", line 103, in __call__\n",
      "    score = scorer._score(cached_call, estimator, *args, **kwargs)\n",
      "  File \"/home/nextg3/.local/lib/python3.8/site-packages/sklearn/metrics/_scorer.py\", line 349, in _score\n",
      "    raise ValueError(\"{0} format is not supported\".format(y_type))\n",
      "ValueError: continuous format is not supported\n",
      "\n",
      "  warnings.warn(\n",
      "/home/nextg3/.local/lib/python3.8/site-packages/sklearn/model_selection/_validation.py:770: UserWarning: Scoring failed. The score on this train-test partition for these parameters will be set to nan. Details: \n",
      "Traceback (most recent call last):\n",
      "  File \"/home/nextg3/.local/lib/python3.8/site-packages/sklearn/model_selection/_validation.py\", line 761, in _score\n",
      "    scores = scorer(estimator, X_test, y_test)\n",
      "  File \"/home/nextg3/.local/lib/python3.8/site-packages/sklearn/metrics/_scorer.py\", line 103, in __call__\n",
      "    score = scorer._score(cached_call, estimator, *args, **kwargs)\n",
      "  File \"/home/nextg3/.local/lib/python3.8/site-packages/sklearn/metrics/_scorer.py\", line 349, in _score\n",
      "    raise ValueError(\"{0} format is not supported\".format(y_type))\n",
      "ValueError: continuous format is not supported\n",
      "\n",
      "  warnings.warn(\n"
     ]
    },
    {
     "name": "stderr",
     "output_type": "stream",
     "text": [
      "/home/nextg3/.local/lib/python3.8/site-packages/sklearn/model_selection/_validation.py:770: UserWarning: Scoring failed. The score on this train-test partition for these parameters will be set to nan. Details: \n",
      "Traceback (most recent call last):\n",
      "  File \"/home/nextg3/.local/lib/python3.8/site-packages/sklearn/model_selection/_validation.py\", line 761, in _score\n",
      "    scores = scorer(estimator, X_test, y_test)\n",
      "  File \"/home/nextg3/.local/lib/python3.8/site-packages/sklearn/metrics/_scorer.py\", line 103, in __call__\n",
      "    score = scorer._score(cached_call, estimator, *args, **kwargs)\n",
      "  File \"/home/nextg3/.local/lib/python3.8/site-packages/sklearn/metrics/_scorer.py\", line 349, in _score\n",
      "    raise ValueError(\"{0} format is not supported\".format(y_type))\n",
      "ValueError: continuous format is not supported\n",
      "\n",
      "  warnings.warn(\n",
      "/home/nextg3/.local/lib/python3.8/site-packages/sklearn/model_selection/_validation.py:770: UserWarning: Scoring failed. The score on this train-test partition for these parameters will be set to nan. Details: \n",
      "Traceback (most recent call last):\n",
      "  File \"/home/nextg3/.local/lib/python3.8/site-packages/sklearn/model_selection/_validation.py\", line 761, in _score\n",
      "    scores = scorer(estimator, X_test, y_test)\n",
      "  File \"/home/nextg3/.local/lib/python3.8/site-packages/sklearn/metrics/_scorer.py\", line 103, in __call__\n",
      "    score = scorer._score(cached_call, estimator, *args, **kwargs)\n",
      "  File \"/home/nextg3/.local/lib/python3.8/site-packages/sklearn/metrics/_scorer.py\", line 349, in _score\n",
      "    raise ValueError(\"{0} format is not supported\".format(y_type))\n",
      "ValueError: continuous format is not supported\n",
      "\n",
      "  warnings.warn(\n",
      "/home/nextg3/.local/lib/python3.8/site-packages/sklearn/model_selection/_validation.py:770: UserWarning: Scoring failed. The score on this train-test partition for these parameters will be set to nan. Details: \n",
      "Traceback (most recent call last):\n",
      "  File \"/home/nextg3/.local/lib/python3.8/site-packages/sklearn/model_selection/_validation.py\", line 761, in _score\n",
      "    scores = scorer(estimator, X_test, y_test)\n",
      "  File \"/home/nextg3/.local/lib/python3.8/site-packages/sklearn/metrics/_scorer.py\", line 103, in __call__\n",
      "    score = scorer._score(cached_call, estimator, *args, **kwargs)\n",
      "  File \"/home/nextg3/.local/lib/python3.8/site-packages/sklearn/metrics/_scorer.py\", line 349, in _score\n",
      "    raise ValueError(\"{0} format is not supported\".format(y_type))\n",
      "ValueError: continuous format is not supported\n",
      "\n",
      "  warnings.warn(\n",
      "/home/nextg3/.local/lib/python3.8/site-packages/sklearn/model_selection/_validation.py:770: UserWarning: Scoring failed. The score on this train-test partition for these parameters will be set to nan. Details: \n",
      "Traceback (most recent call last):\n",
      "  File \"/home/nextg3/.local/lib/python3.8/site-packages/sklearn/model_selection/_validation.py\", line 761, in _score\n",
      "    scores = scorer(estimator, X_test, y_test)\n",
      "  File \"/home/nextg3/.local/lib/python3.8/site-packages/sklearn/metrics/_scorer.py\", line 103, in __call__\n",
      "    score = scorer._score(cached_call, estimator, *args, **kwargs)\n",
      "  File \"/home/nextg3/.local/lib/python3.8/site-packages/sklearn/metrics/_scorer.py\", line 349, in _score\n",
      "    raise ValueError(\"{0} format is not supported\".format(y_type))\n",
      "ValueError: continuous format is not supported\n",
      "\n",
      "  warnings.warn(\n",
      "/home/nextg3/.local/lib/python3.8/site-packages/sklearn/model_selection/_validation.py:770: UserWarning: Scoring failed. The score on this train-test partition for these parameters will be set to nan. Details: \n",
      "Traceback (most recent call last):\n",
      "  File \"/home/nextg3/.local/lib/python3.8/site-packages/sklearn/model_selection/_validation.py\", line 761, in _score\n",
      "    scores = scorer(estimator, X_test, y_test)\n",
      "  File \"/home/nextg3/.local/lib/python3.8/site-packages/sklearn/metrics/_scorer.py\", line 103, in __call__\n",
      "    score = scorer._score(cached_call, estimator, *args, **kwargs)\n",
      "  File \"/home/nextg3/.local/lib/python3.8/site-packages/sklearn/metrics/_scorer.py\", line 349, in _score\n",
      "    raise ValueError(\"{0} format is not supported\".format(y_type))\n",
      "ValueError: continuous format is not supported\n",
      "\n",
      "  warnings.warn(\n",
      "/home/nextg3/.local/lib/python3.8/site-packages/sklearn/model_selection/_validation.py:770: UserWarning: Scoring failed. The score on this train-test partition for these parameters will be set to nan. Details: \n",
      "Traceback (most recent call last):\n",
      "  File \"/home/nextg3/.local/lib/python3.8/site-packages/sklearn/model_selection/_validation.py\", line 761, in _score\n",
      "    scores = scorer(estimator, X_test, y_test)\n",
      "  File \"/home/nextg3/.local/lib/python3.8/site-packages/sklearn/metrics/_scorer.py\", line 103, in __call__\n",
      "    score = scorer._score(cached_call, estimator, *args, **kwargs)\n",
      "  File \"/home/nextg3/.local/lib/python3.8/site-packages/sklearn/metrics/_scorer.py\", line 349, in _score\n",
      "    raise ValueError(\"{0} format is not supported\".format(y_type))\n",
      "ValueError: continuous format is not supported\n",
      "\n",
      "  warnings.warn(\n",
      "/home/nextg3/.local/lib/python3.8/site-packages/sklearn/model_selection/_validation.py:770: UserWarning: Scoring failed. The score on this train-test partition for these parameters will be set to nan. Details: \n",
      "Traceback (most recent call last):\n",
      "  File \"/home/nextg3/.local/lib/python3.8/site-packages/sklearn/model_selection/_validation.py\", line 761, in _score\n",
      "    scores = scorer(estimator, X_test, y_test)\n",
      "  File \"/home/nextg3/.local/lib/python3.8/site-packages/sklearn/metrics/_scorer.py\", line 103, in __call__\n",
      "    score = scorer._score(cached_call, estimator, *args, **kwargs)\n",
      "  File \"/home/nextg3/.local/lib/python3.8/site-packages/sklearn/metrics/_scorer.py\", line 264, in _score\n",
      "    return self._sign * self._score_func(y_true, y_pred, **self._kwargs)\n",
      "  File \"/home/nextg3/.local/lib/python3.8/site-packages/sklearn/metrics/_classification.py\", line 211, in accuracy_score\n",
      "    y_type, y_true, y_pred = _check_targets(y_true, y_pred)\n",
      "  File \"/home/nextg3/.local/lib/python3.8/site-packages/sklearn/metrics/_classification.py\", line 104, in _check_targets\n",
      "    raise ValueError(\"{0} is not supported\".format(y_type))\n",
      "ValueError: continuous is not supported\n",
      "\n",
      "  warnings.warn(\n",
      "/home/nextg3/.local/lib/python3.8/site-packages/sklearn/model_selection/_validation.py:770: UserWarning: Scoring failed. The score on this train-test partition for these parameters will be set to nan. Details: \n",
      "Traceback (most recent call last):\n",
      "  File \"/home/nextg3/.local/lib/python3.8/site-packages/sklearn/model_selection/_validation.py\", line 761, in _score\n",
      "    scores = scorer(estimator, X_test, y_test)\n",
      "  File \"/home/nextg3/.local/lib/python3.8/site-packages/sklearn/metrics/_scorer.py\", line 103, in __call__\n",
      "    score = scorer._score(cached_call, estimator, *args, **kwargs)\n",
      "  File \"/home/nextg3/.local/lib/python3.8/site-packages/sklearn/metrics/_scorer.py\", line 349, in _score\n",
      "    raise ValueError(\"{0} format is not supported\".format(y_type))\n",
      "ValueError: continuous format is not supported\n",
      "\n",
      "  warnings.warn(\n",
      "/home/nextg3/.local/lib/python3.8/site-packages/sklearn/model_selection/_validation.py:770: UserWarning: Scoring failed. The score on this train-test partition for these parameters will be set to nan. Details: \n",
      "Traceback (most recent call last):\n",
      "  File \"/home/nextg3/.local/lib/python3.8/site-packages/sklearn/model_selection/_validation.py\", line 761, in _score\n",
      "    scores = scorer(estimator, X_test, y_test)\n",
      "  File \"/home/nextg3/.local/lib/python3.8/site-packages/sklearn/metrics/_scorer.py\", line 103, in __call__\n",
      "    score = scorer._score(cached_call, estimator, *args, **kwargs)\n",
      "  File \"/home/nextg3/.local/lib/python3.8/site-packages/sklearn/metrics/_scorer.py\", line 349, in _score\n",
      "    raise ValueError(\"{0} format is not supported\".format(y_type))\n",
      "ValueError: continuous format is not supported\n",
      "\n",
      "  warnings.warn(\n",
      "/home/nextg3/.local/lib/python3.8/site-packages/sklearn/model_selection/_validation.py:770: UserWarning: Scoring failed. The score on this train-test partition for these parameters will be set to nan. Details: \n",
      "Traceback (most recent call last):\n",
      "  File \"/home/nextg3/.local/lib/python3.8/site-packages/sklearn/model_selection/_validation.py\", line 761, in _score\n",
      "    scores = scorer(estimator, X_test, y_test)\n",
      "  File \"/home/nextg3/.local/lib/python3.8/site-packages/sklearn/metrics/_scorer.py\", line 103, in __call__\n",
      "    score = scorer._score(cached_call, estimator, *args, **kwargs)\n",
      "  File \"/home/nextg3/.local/lib/python3.8/site-packages/sklearn/metrics/_scorer.py\", line 349, in _score\n",
      "    raise ValueError(\"{0} format is not supported\".format(y_type))\n",
      "ValueError: continuous format is not supported\n",
      "\n",
      "  warnings.warn(\n",
      "/home/nextg3/.local/lib/python3.8/site-packages/sklearn/model_selection/_validation.py:770: UserWarning: Scoring failed. The score on this train-test partition for these parameters will be set to nan. Details: \n",
      "Traceback (most recent call last):\n",
      "  File \"/home/nextg3/.local/lib/python3.8/site-packages/sklearn/model_selection/_validation.py\", line 761, in _score\n",
      "    scores = scorer(estimator, X_test, y_test)\n",
      "  File \"/home/nextg3/.local/lib/python3.8/site-packages/sklearn/metrics/_scorer.py\", line 103, in __call__\n",
      "    score = scorer._score(cached_call, estimator, *args, **kwargs)\n",
      "  File \"/home/nextg3/.local/lib/python3.8/site-packages/sklearn/metrics/_scorer.py\", line 349, in _score\n",
      "    raise ValueError(\"{0} format is not supported\".format(y_type))\n",
      "ValueError: continuous format is not supported\n",
      "\n",
      "  warnings.warn(\n",
      "/home/nextg3/.local/lib/python3.8/site-packages/sklearn/model_selection/_validation.py:770: UserWarning: Scoring failed. The score on this train-test partition for these parameters will be set to nan. Details: \n",
      "Traceback (most recent call last):\n",
      "  File \"/home/nextg3/.local/lib/python3.8/site-packages/sklearn/model_selection/_validation.py\", line 761, in _score\n",
      "    scores = scorer(estimator, X_test, y_test)\n",
      "  File \"/home/nextg3/.local/lib/python3.8/site-packages/sklearn/metrics/_scorer.py\", line 103, in __call__\n",
      "    score = scorer._score(cached_call, estimator, *args, **kwargs)\n",
      "  File \"/home/nextg3/.local/lib/python3.8/site-packages/sklearn/metrics/_scorer.py\", line 349, in _score\n",
      "    raise ValueError(\"{0} format is not supported\".format(y_type))\n",
      "ValueError: continuous format is not supported\n",
      "\n",
      "  warnings.warn(\n",
      "/home/nextg3/.local/lib/python3.8/site-packages/sklearn/model_selection/_validation.py:770: UserWarning: Scoring failed. The score on this train-test partition for these parameters will be set to nan. Details: \n",
      "Traceback (most recent call last):\n",
      "  File \"/home/nextg3/.local/lib/python3.8/site-packages/sklearn/model_selection/_validation.py\", line 761, in _score\n",
      "    scores = scorer(estimator, X_test, y_test)\n",
      "  File \"/home/nextg3/.local/lib/python3.8/site-packages/sklearn/metrics/_scorer.py\", line 103, in __call__\n",
      "    score = scorer._score(cached_call, estimator, *args, **kwargs)\n",
      "  File \"/home/nextg3/.local/lib/python3.8/site-packages/sklearn/metrics/_scorer.py\", line 349, in _score\n",
      "    raise ValueError(\"{0} format is not supported\".format(y_type))\n",
      "ValueError: continuous format is not supported\n",
      "\n",
      "  warnings.warn(\n"
     ]
    }
   ],
   "source": [
    "np.mean([0.59612544,  0.41902209,  0.33111024,  0.19289502,\n",
    "        0.56287507,  0.46690095,  0.25892655, 0.41765392])"
   ]
  },
  {
   "cell_type": "code",
   "execution_count": 224,
   "metadata": {},
   "outputs": [
    {
     "data": {
      "text/plain": [
       "0.965562298"
      ]
     },
     "execution_count": 224,
     "metadata": {},
     "output_type": "execute_result"
    }
   ],
   "source": [
    "np.mean([0.96251282, 0.9339548 , 0.97991452, 0.87081329, 0.99157059,\n",
    "       0.98367393, 0.97486718, 0.98291154, 0.98754717, 0.98785714])"
   ]
  },
  {
   "cell_type": "code",
   "execution_count": null,
   "metadata": {},
   "outputs": [],
   "source": []
  }
 ],
 "metadata": {
  "kernelspec": {
   "display_name": "Python 3 (ipykernel)",
   "language": "python",
   "name": "python3"
  },
  "language_info": {
   "codemirror_mode": {
    "name": "ipython",
    "version": 3
   },
   "file_extension": ".py",
   "mimetype": "text/x-python",
   "name": "python",
   "nbconvert_exporter": "python",
   "pygments_lexer": "ipython3",
   "version": "3.8.10"
  },
  "vscode": {
   "interpreter": {
    "hash": "3c72bf70c4d79c1a160220357a7edf38be7c9d8126197b4e0194e91be219066b"
   }
  }
 },
 "nbformat": 4,
 "nbformat_minor": 2
}
